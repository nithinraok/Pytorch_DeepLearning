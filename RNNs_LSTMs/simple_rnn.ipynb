{
 "cells": [
  {
   "cell_type": "code",
   "execution_count": 1,
   "metadata": {},
   "outputs": [],
   "source": [
    "import torch\n",
    "import numpy as np\n",
    "from torch import nn\n",
    "import matplotlib.pyplot as plt\n",
    "%matplotlib inline"
   ]
  },
  {
   "cell_type": "code",
   "execution_count": 2,
   "metadata": {},
   "outputs": [
    {
     "data": {
      "image/png": "[encoded data removed]",
      "text/plain": [
       "<matplotlib.figure.Figure at 0x120002710>"
      ]
     },
     "metadata": {},
     "output_type": "display_data"
    }
   ],
   "source": [
    "plt.figure(figsize=(8,6));\n",
    "\n",
    "seq_length = 20\n",
    "\n",
    "time_steps = np.linspace(0,np.pi,seq_length+1)\n",
    "data=np.sin(time_steps)\n",
    "\n",
    "data.resize((seq_length+1,1))\n",
    "\n",
    "x=data[:-1]\n",
    "y=data[1:]\n",
    "\n",
    "plt.plot(time_steps[1:],x,'r.',label='input, x');\n",
    "plt.plot(time_steps[1:],y,'b.',label='target, y');\n",
    "\n",
    "plt.legend()\n",
    "plt.show()"
   ]
  },
  {
   "cell_type": "code",
   "execution_count": 3,
   "metadata": {},
   "outputs": [
    {
     "name": "stdout",
     "output_type": "stream",
     "text": [
      "(20, 1) (20, 1)\n"
     ]
    }
   ],
   "source": [
    "print(x.shape,y.shape)"
   ]
  },
  {
   "cell_type": "markdown",
   "metadata": {},
   "source": [
    "This implies we have 20 values in sequence each of input size 1  \n",
    "And number of output features of RNN we need going to final layer is called hidden_dim   \n",
    "as we are predicting sine wave next wave given previous value so output_size is 1  \n",
    "num of hidden layers we consider .. let it be 2 for now"
   ]
  },
  {
   "cell_type": "code",
   "execution_count": 7,
   "metadata": {},
   "outputs": [],
   "source": [
    "class RNN(nn.Module):\n",
    "    def __init__(self,input_size,output_size,hidden_dim,n_layers):\n",
    "        super(RNN,self).__init__()\n",
    "        \n",
    "        self.hidden_dim = hidden_dim\n",
    "        \n",
    "        self.rnn = nn.RNN(input_size,hidden_dim,n_layers,batch_first=True)\n",
    "        \n",
    "        self.fc = nn.Linear(hidden_dim,output_size)\n",
    "        \n",
    "    def forward(self,x,hidden):\n",
    "        batch_size=x.size(0)\n",
    "        \n",
    "        r_out,hidden=self.rnn(x,hidden)\n",
    "        r_out=r_out.view(-1,self.hidden_dim) ## batch_size*seq,hidden_dim\n",
    "        \n",
    "        output=self.fc(r_out)\n",
    "        \n",
    "        return output,hidden"
   ]
  },
  {
   "cell_type": "code",
   "execution_count": 14,
   "metadata": {},
   "outputs": [
    {
     "name": "stdout",
     "output_type": "stream",
     "text": [
      "Input size is  torch.Size([1, 20, 1])\n",
      "Output size is  torch.Size([20, 1])\n",
      "Hidden size is  torch.Size([2, 1, 10])\n"
     ]
    }
   ],
   "source": [
    "test_rnn=RNN(input_size=1,output_size=1,hidden_dim=10,n_layers=2)\n",
    "\n",
    "time_steps = np.linspace(0,np.pi,seq_length)\n",
    "data=np.sin(time_steps)\n",
    "data.resize((seq_length,1))\n",
    "\n",
    "test_input=torch.Tensor(data).unsqueeze(0) \n",
    "print(\"Input size is \",test_input.shape)\n",
    "\n",
    "test_output,test_h=test_rnn(test_input,None)\n",
    "print(\"Output size is \",test_output.shape)\n",
    "print(\"Hidden size is \",test_h.shape)"
   ]
  },
  {
   "cell_type": "markdown",
   "metadata": {},
   "source": [
    "Training"
   ]
  },
  {
   "cell_type": "code",
   "execution_count": 15,
   "metadata": {},
   "outputs": [
    {
     "name": "stdout",
     "output_type": "stream",
     "text": [
      "RNN(\n",
      "  (rnn): RNN(1, 32, batch_first=True)\n",
      "  (fc): Linear(in_features=32, out_features=1, bias=True)\n",
      ")\n"
     ]
    }
   ],
   "source": [
    "input_size=1\n",
    "output_size=1\n",
    "hidden_dim=32\n",
    "n_layers=1\n",
    "\n",
    "rnn = RNN(input_size,output_size,hidden_dim,n_layers)\n",
    "print(rnn)"
   ]
  },
  {
   "cell_type": "code",
   "execution_count": 16,
   "metadata": {},
   "outputs": [],
   "source": [
    "criterion = nn.MSELoss()\n",
    "optimizer=torch.optim.Adam(rnn.parameters(),lr=0.01)"
   ]
  },
  {
   "cell_type": "code",
   "execution_count": 17,
   "metadata": {},
   "outputs": [],
   "source": [
    "def train(rnn,n_steps,print_every):\n",
    "    \n",
    "    hidden_state=None\n",
    "    \n",
    "    for batch_i,step in enumerate(range(n_steps)):\n",
    "        \n",
    "        time_steps=np.linspace(step*np.pi,(step+1)*np.pi,seq_length+1)\n",
    "        data=np.sin(time_steps)\n",
    "        data.resize(seq_length+1,1)\n",
    "        \n",
    "        x=data[:-1]\n",
    "        y=data[1:]\n",
    "        \n",
    "        x_tensor=torch.Tensor(x).unsqueeze(0)\n",
    "        y_tensor=torch.Tensor(y)\n",
    "        \n",
    "        prediction,hidden_state=rnn(x_tensor,hidden_state)\n",
    "        \n",
    "        hidden_state=hidden_state.data\n",
    "        \n",
    "        optimizer.zero_grad()\n",
    "        loss=criterion(prediction,y_tensor)\n",
    "        loss.backward()\n",
    "        optimizer.step()\n",
    "        \n",
    "        if batch_i%print_every==0:\n",
    "            print(\"Loss : \",loss.item())\n",
    "            plt.plot(time_steps[1:],x,'r.')\n",
    "            plt.plot(time_steps[1:],prediction.data.numpy().flatten(),'b.')\n",
    "            plt.show()\n",
    "            \n",
    "    return rnn\n",
    "        \n",
    "        \n",
    "        "
   ]
  },
  {
   "cell_type": "code",
   "execution_count": 18,
   "metadata": {},
   "outputs": [
    {
     "name": "stdout",
     "output_type": "stream",
     "text": [
      "Loss :  0.4707338809967041\n"
     ]
    },
    {
     "data": {
      "image/png": "[encoded data removed]",
      "text/plain": [
       "<matplotlib.figure.Figure at 0x1223d8470>"
      ]
     },
     "metadata": {},
     "output_type": "display_data"
    },
    {
     "name": "stdout",
     "output_type": "stream",
     "text": [
      "Loss :  0.013324610888957977\n"
     ]
    },
    {
     "data": {
      "image/png": "[encoded data removed]",
      "text/plain": [
       "<matplotlib.figure.Figure at 0x122411ba8>"
      ]
     },
     "metadata": {},
     "output_type": "display_data"
    },
    {
     "name": "stdout",
     "output_type": "stream",
     "text": [
      "Loss :  0.002807092387229204\n"
     ]
    },
    {
     "data": {
      "image/png": "[encoded data removed]",
      "text/plain": [
       "<matplotlib.figure.Figure at 0x1224e0cc0>"
      ]
     },
     "metadata": {},
     "output_type": "display_data"
    },
    {
     "name": "stdout",
     "output_type": "stream",
     "text": [
      "Loss :  0.0007361442549154162\n"
     ]
    },
    {
     "data": {
      "image/png": "[encoded data removed]",
      "text/plain": [
       "<matplotlib.figure.Figure at 0x122568588>"
      ]
     },
     "metadata": {},
     "output_type": "display_data"
    },
    {
     "name": "stdout",
     "output_type": "stream",
     "text": [
      "Loss :  0.00010927966650342569\n"
     ]
    },
    {
     "data": {
      "image/png": "[encoded data removed]",
      "text/plain": [
       "<matplotlib.figure.Figure at 0x1225c49b0>"
      ]
     },
     "metadata": {},
     "output_type": "display_data"
    }
   ],
   "source": [
    "n_steps=75\n",
    "print_every=15\n",
    "\n",
    "trained_rnn=train(rnn,n_steps,print_every)"
   ]
  },
  {
   "cell_type": "code",
   "execution_count": null,
   "metadata": {},
   "outputs": [],
   "source": []
  }
 ],
 "metadata": {
  "kernelspec": {
   "display_name": "Python 3",
   "language": "python",
   "name": "python3"
  },
  "language_info": {
   "codemirror_mode": {
    "name": "ipython",
    "version": 3
   },
   "file_extension": ".py",
   "mimetype": "text/x-python",
   "name": "python",
   "nbconvert_exporter": "python",
   "pygments_lexer": "ipython3",
   "version": "3.6.3"
  }
 },
 "nbformat": 4,
 "nbformat_minor": 2
}
