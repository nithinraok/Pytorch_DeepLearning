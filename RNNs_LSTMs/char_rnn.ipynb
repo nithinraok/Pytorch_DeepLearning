{
 "cells": [
  {
   "cell_type": "code",
   "execution_count": 1,
   "metadata": {},
   "outputs": [],
   "source": [
    "import torch\n",
    "from matplotlib import pyplot as plt\n",
    "import numpy as np\n",
    "from torch import nn\n",
    "import torch.nn.functional as F\n",
    "%matplotlib inline"
   ]
  },
  {
   "cell_type": "code",
   "execution_count": 2,
   "metadata": {},
   "outputs": [],
   "source": [
    "with open('../data/RNN_LSTM/AnnaKariennaNovel/anna.txt','r') as f:\n",
    "    text=f.read()"
   ]
  },
  {
   "cell_type": "code",
   "execution_count": 3,
   "metadata": {},
   "outputs": [
    {
     "data": {
      "text/plain": [
       "83"
      ]
     },
     "execution_count": 3,
     "metadata": {},
     "output_type": "execute_result"
    }
   ],
   "source": [
    "len(set(text))"
   ]
  },
  {
   "cell_type": "code",
   "execution_count": 4,
   "metadata": {},
   "outputs": [
    {
     "data": {
      "text/plain": [
       "1985223"
      ]
     },
     "execution_count": 4,
     "metadata": {},
     "output_type": "execute_result"
    }
   ],
   "source": [
    "len(text)"
   ]
  },
  {
   "cell_type": "code",
   "execution_count": 5,
   "metadata": {},
   "outputs": [
    {
     "data": {
      "text/plain": [
       "'Chapter 1\\n\\n\\nHappy families are all alike; every unhappy family is unhappy in its own\\nway.\\n\\nEverythin'"
      ]
     },
     "execution_count": 5,
     "metadata": {},
     "output_type": "execute_result"
    }
   ],
   "source": [
    "text[:100]"
   ]
  },
  {
   "cell_type": "code",
   "execution_count": 6,
   "metadata": {},
   "outputs": [],
   "source": [
    "chars=set(text)\n",
    "int2char = {i:ch for i,ch in enumerate(chars)}\n",
    "char2int = {ch:i for i,ch in enumerate(chars)}\n",
    "\n",
    "encoded=np.array([char2int[ch] for ch in text])"
   ]
  },
  {
   "cell_type": "code",
   "execution_count": 7,
   "metadata": {},
   "outputs": [
    {
     "data": {
      "text/plain": [
       "(1985223,)"
      ]
     },
     "execution_count": 7,
     "metadata": {},
     "output_type": "execute_result"
    }
   ],
   "source": [
    "encoded.shape"
   ]
  },
  {
   "cell_type": "code",
   "execution_count": 13,
   "metadata": {},
   "outputs": [
    {
     "data": {
      "text/plain": [
       "array([71,  1,  0, 77, 78, 62, 50, 21, 46, 39, 39, 39,  3,  0, 77, 77, 80,\n",
       "       21, 74,  0, 31,  8, 11,  8, 62,  9, 21,  0, 50, 62, 21,  0, 11, 11,\n",
       "       21,  0, 11,  8, 10, 62, 59, 21, 62, 33, 62, 50, 80, 21, 44, 29,  1,\n",
       "        0, 77, 77, 80, 21, 74,  0, 31,  8, 11, 80, 21,  8,  9, 21, 44, 29,\n",
       "        1,  0, 77, 77, 80, 21,  8, 29, 21,  8, 78,  9, 21, 12, 35, 29, 39,\n",
       "       35,  0, 80, 38, 39, 39, 23, 33, 62, 50, 80, 78,  1,  8, 29])"
      ]
     },
     "execution_count": 13,
     "metadata": {},
     "output_type": "execute_result"
    }
   ],
   "source": [
    "encoded[:100]"
   ]
  },
  {
   "cell_type": "code",
   "execution_count": 8,
   "metadata": {},
   "outputs": [
    {
     "data": {
      "image/png": "[encoded data removed]",
      "text/plain": [
       "<matplotlib.figure.Figure at 0x120212e10>"
      ]
     },
     "metadata": {},
     "output_type": "display_data"
    }
   ],
   "source": [
    "plt.hist(encoded);"
   ]
  },
  {
   "cell_type": "code",
   "execution_count": 9,
   "metadata": {},
   "outputs": [
    {
     "data": {
      "text/plain": [
       "'Chapter 1\\n\\n\\nHappy families are all alike; every unhappy family is unhappy in its own\\nway.\\n\\nEverythin'"
      ]
     },
     "execution_count": 9,
     "metadata": {},
     "output_type": "execute_result"
    }
   ],
   "source": [
    "''.join(int2char[k] for k in encoded[:100])"
   ]
  },
  {
   "cell_type": "code",
   "execution_count": 10,
   "metadata": {},
   "outputs": [],
   "source": [
    "def one_hot_encode(arr, n_labels):\n",
    "    one_hot= np.zeros((np.multiply(*arr.shape),n_labels),dtype=np.float32)\n",
    "    \n",
    "    one_hot[np.arange(one_hot.shape[0]),arr.flatten()]=1.\n",
    "    \n",
    "    one_hot=one_hot.reshape((*arr.shape,n_labels))\n",
    "    \n",
    "    return one_hot"
   ]
  },
  {
   "cell_type": "code",
   "execution_count": 11,
   "metadata": {},
   "outputs": [
    {
     "name": "stdout",
     "output_type": "stream",
     "text": [
      "[[[0. 0. 0. 1. 0. 0. 0. 0.]\n",
      "  [0. 0. 0. 0. 0. 1. 0. 0.]\n",
      "  [0. 1. 0. 0. 0. 0. 0. 0.]]]\n"
     ]
    }
   ],
   "source": [
    "test_seq=np.array([[3,5,1]])\n",
    "one_hot=one_hot_encode(test_seq,8)\n",
    "print(one_hot)"
   ]
  },
  {
   "cell_type": "code",
   "execution_count": 48,
   "metadata": {},
   "outputs": [],
   "source": [
    "def get_batches(arr,batch_size,seq_length):\n",
    "    \n",
    "    batch_size_total=batch_size*seq_length\n",
    "    n_batches=len(arr)//batch_size_total\n",
    "    \n",
    "    arr=arr[:n_batches*batch_size_total]\n",
    "    arr=arr.reshape((batch_size,-1))\n",
    "    \n",
    "    for n in range(0,arr.shape[1],seq_length):\n",
    "        x=arr[:,n:n+seq_length]\n",
    "        \n",
    "        y=np.zeros_like(x)\n",
    "        try:\n",
    "            y[:,:-1],y[:,-1]=x[:,1:], arr[:,n+seq_length]\n",
    "        except IndexError:\n",
    "            y[:,:-1],y[:,-1]=x[:,1:], arr[:,0]\n",
    "        \n",
    "        yield x,y"
   ]
  },
  {
   "cell_type": "code",
   "execution_count": 49,
   "metadata": {},
   "outputs": [],
   "source": [
    "batches=get_batches(encoded,8,50)\n",
    "x,y=next(batches)"
   ]
  },
  {
   "cell_type": "code",
   "execution_count": 50,
   "metadata": {},
   "outputs": [
    {
     "data": {
      "text/plain": [
       "(8, 50)"
      ]
     },
     "execution_count": 50,
     "metadata": {},
     "output_type": "execute_result"
    }
   ],
   "source": [
    "x.shape"
   ]
  },
  {
   "cell_type": "code",
   "execution_count": 51,
   "metadata": {},
   "outputs": [
    {
     "data": {
      "text/plain": [
       "array([[71,  1,  0, 77, 78, 62, 50, 21, 46, 39, 39, 39],\n",
       "       [ 9, 12, 29, 21, 78,  1,  0, 78, 21,  0, 78, 78],\n",
       "       [62, 29, 57, 21, 12, 50, 21,  0, 21, 74, 12, 62],\n",
       "       [ 9, 21, 78,  1, 62, 21, 51,  1,  8, 62, 74, 21],\n",
       "       [21,  9,  0, 35, 21,  1, 62, 50, 21, 78, 62,  0],\n",
       "       [51, 44,  9,  9,  8, 12, 29, 21,  0, 29, 57, 21],\n",
       "       [21, 22, 29, 29,  0, 21,  1,  0, 57, 21,  9,  0],\n",
       "       [61, 45, 11, 12, 29,  9, 10, 80, 38, 21,  5, 64]])"
      ]
     },
     "execution_count": 51,
     "metadata": {},
     "output_type": "execute_result"
    }
   ],
   "source": [
    "x[:10,:12]"
   ]
  },
  {
   "cell_type": "code",
   "execution_count": 52,
   "metadata": {},
   "outputs": [
    {
     "data": {
      "text/plain": [
       "array([[ 1,  0, 77, 78, 62, 50, 21, 46, 39, 39],\n",
       "       [12, 29, 21, 78,  1,  0, 78, 21,  0, 78],\n",
       "       [29, 57, 21, 12, 50, 21,  0, 21, 74, 12],\n",
       "       [21, 78,  1, 62, 21, 51,  1,  8, 62, 74],\n",
       "       [ 9,  0, 35, 21,  1, 62, 50, 21, 78, 62],\n",
       "       [44,  9,  9,  8, 12, 29, 21,  0, 29, 57],\n",
       "       [22, 29, 29,  0, 21,  1,  0, 57, 21,  9],\n",
       "       [45, 11, 12, 29,  9, 10, 80, 38, 21,  5]])"
      ]
     },
     "execution_count": 52,
     "metadata": {},
     "output_type": "execute_result"
    }
   ],
   "source": [
    "y[:10,:10]"
   ]
  },
  {
   "cell_type": "code",
   "execution_count": 54,
   "metadata": {},
   "outputs": [
    {
     "name": "stdout",
     "output_type": "stream",
     "text": [
      "Training on CPU\n"
     ]
    }
   ],
   "source": [
    "train_on_gpu = torch.cuda.is_available()\n",
    "if(train_on_gpu):\n",
    "    print(\"Training on GPU\")\n",
    "else:\n",
    "    print(\"Training on CPU\")\n",
    "    "
   ]
  },
  {
   "cell_type": "code",
   "execution_count": 55,
   "metadata": {},
   "outputs": [],
   "source": [
    "class CharRNN(nn.Module):\n",
    "    def __init__(self,tokens, n_hidden=256, n_layers=2,\n",
    "                drop_prob=0.5,lr=0.001):\n",
    "        super().__init__()\n",
    "        self.drop_prob=drop_prob\n",
    "        self.n_layers=n_layers\n",
    "        self.n_hidden=n_hidden\n",
    "        self.lr=lr\n",
    "        \n",
    "        self.chars = tokens\n",
    "        self.int2char = dict(enumerate(self.chars))\n",
    "        self.char2int = {ch : ii for ii,ch in self.int2char.items()}\n",
    "        \n",
    "        self.lstm = nn.LSTM(input_size=len(self.chars),hidden_size=self.n_hidden,\n",
    "                           num_layers=self.n_layers,batch_first=True,\n",
    "                           dropout=drop_prob)\n",
    "        self.dropout = nn.Dropout(drop_prob)\n",
    "        \n",
    "        self.fc = nn.Linear(n_hidden,len(self.chars))\n",
    "\n",
    "    def forward(self,x,hidden):\n",
    "        \n",
    "        r_output,hidden=self.lstm(x,hidden)\n",
    "        out=self.dropout(r_output)\n",
    "        \n",
    "        out=out.contiguous().view(-1,self.n_hidden)\n",
    "        out=self.fc(out)\n",
    "        \n",
    "        return out,hidden\n",
    "    \n",
    "    def init_hidden(self,batch_size):\n",
    "        \n",
    "        weight = next(self.parameters()).data\n",
    "        \n",
    "        if (train_on_gpu):\n",
    "            hidden = (weight.new(self.n_layers, batch_size, self.n_hidden).zero_().cuda(),\n",
    "                  weight.new(self.n_layers, batch_size, self.n_hidden).zero_().cuda())\n",
    "        else:\n",
    "            hidden = (weight.new(self.n_layers, batch_size, self.n_hidden).zero_(),\n",
    "                      weight.new(self.n_layers, batch_size, self.n_hidden).zero_())\n",
    "        \n",
    "        return hidden"
   ]
  },
  {
   "cell_type": "code",
   "execution_count": null,
   "metadata": {},
   "outputs": [],
   "source": [
    "lstm=CharRNN()"
   ]
  }
 ],
 "metadata": {
  "kernelspec": {
   "display_name": "Python 3",
   "language": "python",
   "name": "python3"
  },
  "language_info": {
   "codemirror_mode": {
    "name": "ipython",
    "version": 3
   },
   "file_extension": ".py",
   "mimetype": "text/x-python",
   "name": "python",
   "nbconvert_exporter": "python",
   "pygments_lexer": "ipython3",
   "version": "3.6.3"
  }
 },
 "nbformat": 4,
 "nbformat_minor": 2
}
