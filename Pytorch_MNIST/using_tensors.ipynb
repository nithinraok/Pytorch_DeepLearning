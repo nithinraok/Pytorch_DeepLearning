{
 "cells": [
  {
   "cell_type": "markdown",
   "metadata": {},
   "source": [
    "Importing Torch and numpy and matplotlib\n",
    "    "
   ]
  },
  {
   "cell_type": "code",
   "execution_count": 1,
   "metadata": {},
   "outputs": [],
   "source": [
    "import torch\n",
    "import numpy as np\n",
    "import pandas as pd\n",
    "%matplotlib inline\n",
    "import matplotlib.pyplot as plt"
   ]
  },
  {
   "cell_type": "code",
   "execution_count": 2,
   "metadata": {},
   "outputs": [
    {
     "name": "stdout",
     "output_type": "stream",
     "text": [
      "0.4.0\n"
     ]
    }
   ],
   "source": [
    "print(torch.__version__)"
   ]
  },
  {
   "cell_type": "code",
   "execution_count": 3,
   "metadata": {},
   "outputs": [],
   "source": [
    "def activation(x):\n",
    "    sig=1/(1+torch.exp(-x))\n",
    "    return sig"
   ]
  },
  {
   "cell_type": "code",
   "execution_count": 4,
   "metadata": {},
   "outputs": [],
   "source": [
    "torch.manual_seed(7);\n",
    "features=torch.randn((1,5))\n",
    "weights=torch.rand_like(features);\n",
    "bias=torch.randn((1,1))"
   ]
  },
  {
   "cell_type": "code",
   "execution_count": 5,
   "metadata": {},
   "outputs": [
    {
     "name": "stdout",
     "output_type": "stream",
     "text": [
      "tensor([[ 0.6140]])\n"
     ]
    }
   ],
   "source": [
    "a=torch.mm(features,weights.view(5,1))+bias\n",
    "output=activation(a);\n",
    "print(output)"
   ]
  },
  {
   "cell_type": "code",
   "execution_count": 6,
   "metadata": {},
   "outputs": [
    {
     "name": "stdout",
     "output_type": "stream",
     "text": [
      "torch.Size([1, 5])\n"
     ]
    }
   ],
   "source": [
    "print(weights.shape)"
   ]
  },
  {
   "cell_type": "code",
   "execution_count": 9,
   "metadata": {},
   "outputs": [],
   "source": [
    "torch.manual_seed(7)\n",
    "features=torch.randn((1,3))\n",
    "n_input=features.shape[1]\n",
    "n_hidden=2\n",
    "n_output=1\n",
    "\n",
    "W1=torch.randn((n_input,n_hidden))\n",
    "W2=torch.randn((n_hidden,n_output))\n",
    "\n",
    "B1=torch.randn((1,n_hidden));\n",
    "B2=torch.randn((1,n_output));"
   ]
  },
  {
   "cell_type": "code",
   "execution_count": 10,
   "metadata": {},
   "outputs": [
    {
     "name": "stdout",
     "output_type": "stream",
     "text": [
      "tensor([[ 0.3171]])\n"
     ]
    }
   ],
   "source": [
    "a1=activation(torch.mm(features,W1)+B1)\n",
    "a2=activation(torch.mm(a1,W2)+B2)\n",
    "print(a2)"
   ]
  },
  {
   "cell_type": "code",
   "execution_count": 11,
   "metadata": {},
   "outputs": [],
   "source": [
    "a=np.random.rand(5,4)"
   ]
  },
  {
   "cell_type": "code",
   "execution_count": 12,
   "metadata": {},
   "outputs": [
    {
     "data": {
      "text/plain": [
       "array([[0.50283262, 0.82452354, 0.08361917, 0.13562569],\n",
       "       [0.05897491, 0.01769853, 0.77213142, 0.05775496],\n",
       "       [0.42173178, 0.41325548, 0.99153508, 0.12625122],\n",
       "       [0.41626363, 0.76662015, 0.23525124, 0.48179001],\n",
       "       [0.6138535 , 0.09795106, 0.81958122, 0.94935766]])"
      ]
     },
     "execution_count": 12,
     "metadata": {},
     "output_type": "execute_result"
    }
   ],
   "source": [
    "a"
   ]
  },
  {
   "cell_type": "code",
   "execution_count": 14,
   "metadata": {},
   "outputs": [],
   "source": [
    "b=torch.from_numpy(a)"
   ]
  },
  {
   "cell_type": "code",
   "execution_count": 15,
   "metadata": {},
   "outputs": [
    {
     "name": "stdout",
     "output_type": "stream",
     "text": [
      "tensor([[ 0.5028,  0.8245,  0.0836,  0.1356],\n",
      "        [ 0.0590,  0.0177,  0.7721,  0.0578],\n",
      "        [ 0.4217,  0.4133,  0.9915,  0.1263],\n",
      "        [ 0.4163,  0.7666,  0.2353,  0.4818],\n",
      "        [ 0.6139,  0.0980,  0.8196,  0.9494]], dtype=torch.float64)\n"
     ]
    }
   ],
   "source": [
    "print(b)"
   ]
  },
  {
   "cell_type": "code",
   "execution_count": 16,
   "metadata": {},
   "outputs": [
    {
     "name": "stdout",
     "output_type": "stream",
     "text": [
      "[[0.50283262 0.82452354 0.08361917 0.13562569]\n",
      " [0.05897491 0.01769853 0.77213142 0.05775496]\n",
      " [0.42173178 0.41325548 0.99153508 0.12625122]\n",
      " [0.41626363 0.76662015 0.23525124 0.48179001]\n",
      " [0.6138535  0.09795106 0.81958122 0.94935766]]\n"
     ]
    }
   ],
   "source": [
    "print(b.numpy())"
   ]
  },
  {
   "cell_type": "code",
   "execution_count": 17,
   "metadata": {},
   "outputs": [
    {
     "data": {
      "text/plain": [
       "tensor([[ 1.0057,  1.6490,  0.1672,  0.2713],\n",
       "        [ 0.1179,  0.0354,  1.5443,  0.1155],\n",
       "        [ 0.8435,  0.8265,  1.9831,  0.2525],\n",
       "        [ 0.8325,  1.5332,  0.4705,  0.9636],\n",
       "        [ 1.2277,  0.1959,  1.6392,  1.8987]], dtype=torch.float64)"
      ]
     },
     "execution_count": 17,
     "metadata": {},
     "output_type": "execute_result"
    }
   ],
   "source": [
    "b.mul_(2)"
   ]
  },
  {
   "cell_type": "code",
   "execution_count": 18,
   "metadata": {},
   "outputs": [
    {
     "data": {
      "text/plain": [
       "array([[1.00566524, 1.64904708, 0.16723834, 0.27125138],\n",
       "       [0.11794982, 0.03539707, 1.54426283, 0.11550992],\n",
       "       [0.84346355, 0.82651097, 1.98307016, 0.25250243],\n",
       "       [0.83252726, 1.5332403 , 0.47050248, 0.96358002],\n",
       "       [1.227707  , 0.19590212, 1.63916243, 1.89871533]])"
      ]
     },
     "execution_count": 18,
     "metadata": {},
     "output_type": "execute_result"
    }
   ],
   "source": [
    "a"
   ]
  },
  {
   "cell_type": "markdown",
   "metadata": {},
   "source": [
    "Above changes from memory"
   ]
  },
  {
   "cell_type": "code",
   "execution_count": null,
   "metadata": {},
   "outputs": [],
   "source": []
  }
 ],
 "metadata": {
  "kernelspec": {
   "display_name": "Python 3",
   "language": "python",
   "name": "python3"
  },
  "language_info": {
   "codemirror_mode": {
    "name": "ipython",
    "version": 3
   },
   "file_extension": ".py",
   "mimetype": "text/x-python",
   "name": "python",
   "nbconvert_exporter": "python",
   "pygments_lexer": "ipython3",
   "version": "3.6.3"
  }
 },
 "nbformat": 4,
 "nbformat_minor": 2
}
