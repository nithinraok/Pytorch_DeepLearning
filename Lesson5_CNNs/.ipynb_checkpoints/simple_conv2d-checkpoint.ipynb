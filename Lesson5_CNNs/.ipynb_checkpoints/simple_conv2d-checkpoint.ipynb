{
 "cells": [
  {
   "cell_type": "code",
   "execution_count": 2,
   "metadata": {},
   "outputs": [],
   "source": [
    "%matplotlib inline\n",
    "\n",
    "import numpy as np\n",
    "import pandas as pd\n",
    "import torch\n",
    "import torch.nn as nn\n",
    "import torch.nn.functional as F\n",
    "from torchvision import datasets,transforms"
   ]
  },
  {
   "cell_type": "code",
   "execution_count": 3,
   "metadata": {},
   "outputs": [],
   "source": [
    "transform = transforms.ToTensor()\n",
    "\n",
    "train_set = datasets.MNIST('../data/MNIST_data/',download=False,train=True,transform=transform)\n",
    "trainloader = torch.utils.data.DataLoader(train_set,batch_size=64,shuffle=True)\n",
    "\n",
    "test_set = datasets.MNIST('../data/MNIST_data/',download=False,train=False,transform=transform)\n",
    "testloader = torch.utils.data.DataLoader(test_set,batch_size=64,shuffle=True)"
   ]
  },
  {
   "cell_type": "code",
   "execution_count": 30,
   "metadata": {},
   "outputs": [],
   "source": [
    "class Network(nn.Module):\n",
    "    \n",
    "    def __init__(self):\n",
    "        super().__init__();\n",
    "        \n",
    "        self.conv=nn.Conv2d(1,5,kernel_size=(3,3),stride=(1,1),padding=1)\n",
    "        self.maxpool = nn.MaxPool2d(2,2)\n",
    "        self.dropout = nn.Dropout(p=0.2)\n",
    "        self.fc1=nn.Linear(980,512)\n",
    "        self.fc2=nn.Linear(512,512)\n",
    "        self.fc3=nn.Linear(512,10)\n",
    "        \n",
    "    def forward(self,x):\n",
    "\n",
    "        x=self.conv(x)\n",
    "        x=self.maxpool(x)\n",
    "        x=self.dropout(x)\n",
    "        x=F.relu(x)\n",
    "        x=x.view(x.shape[0],-1)\n",
    "        \n",
    "        x=self.fc1(x)\n",
    "        x=self.dropout(x)\n",
    "        x=F.relu(x)\n",
    "        x=self.fc2(x)\n",
    "        x=self.dropout(x)\n",
    "        x=F.relu(x)\n",
    "        x=self.fc3(x)\n",
    "        x=F.log_softmax(x,dim=1)\n",
    "        \n",
    "        return x"
   ]
  },
  {
   "cell_type": "code",
   "execution_count": 31,
   "metadata": {},
   "outputs": [],
   "source": [
    "model=Network()"
   ]
  },
  {
   "cell_type": "code",
   "execution_count": 32,
   "metadata": {},
   "outputs": [
    {
     "name": "stdout",
     "output_type": "stream",
     "text": [
      "Network(\n",
      "  (conv): Conv2d(1, 5, kernel_size=(3, 3), stride=(1, 1), padding=(1, 1))\n",
      "  (maxpool): MaxPool2d(kernel_size=2, stride=2, padding=0, dilation=1, ceil_mode=False)\n",
      "  (dropout): Dropout(p=0.2)\n",
      "  (fc1): Linear(in_features=980, out_features=512, bias=True)\n",
      "  (fc2): Linear(in_features=512, out_features=512, bias=True)\n",
      "  (fc3): Linear(in_features=512, out_features=10, bias=True)\n",
      ")\n"
     ]
    }
   ],
   "source": [
    "print(model)"
   ]
  },
  {
   "cell_type": "code",
   "execution_count": 23,
   "metadata": {},
   "outputs": [],
   "source": [
    "def train(Model,trainloader,testloader,criterion,optimizer,epochs):\n",
    "    test_losses,train_losses=[],[]\n",
    "    for e in range(epochs):\n",
    "        running_loss=0;\n",
    "\n",
    "        Model.train();\n",
    "        for images,labels in trainloader:\n",
    "#             images_t = images.view(images.shape[0],-1);\n",
    "            optimizer.zero_grad();\n",
    "\n",
    "            logits=Model.forward(images);\n",
    "            loss_t=criterion(logits,labels);\n",
    "            loss_t.backward();\n",
    "            optimizer.step();\n",
    "\n",
    "            running_loss+=loss_t;\n",
    "\n",
    "        else:\n",
    "            test_loss,accuracy=validation(Model,testloader,criterion);\n",
    "\n",
    "            print(\"Epoch: {}/{}.. \".format(e+1, epochs),\n",
    "                      \"Training Loss: {:.3f}.. \".format(running_loss/len(trainloader)),\n",
    "                      \"Test Loss: {:.3f}.. \".format(test_loss/len(testloader)),\n",
    "                      \"Test Accuracy: {:.3f}\".format(accuracy))\n",
    "\n",
    "        test_losses.append(test_loss/len(testloader))\n",
    "        train_losses.append(running_loss/len(trainloader))\n",
    "\n",
    "    return train_losses,test_losses,accuracy\n",
    "\n",
    "def validation(Model,testloader,criterion):\n",
    "    test_loss=0;\n",
    "    accuracy=0;\n",
    "\n",
    "    Model.eval();\n",
    "    images_num=0;\n",
    "    with torch.no_grad():\n",
    "        for images,labels in testloader:\n",
    "            images_num+=images.shape[0];\n",
    "#             images_t=images.view(images.shape[0],-1);\n",
    "            logits=Model.forward(images);\n",
    "            loss_t=criterion(logits,labels)\n",
    "            test_loss+=loss_t;\n",
    "\n",
    "            _,pred_labels=torch.topk(logits,1,dim=1)\n",
    "            equality=(labels==pred_labels.view(*labels.shape))\n",
    "\n",
    "            accuracy += torch.sum(equality)\n",
    "\n",
    "    overall_acc=accuracy.float()/images_num;\n",
    "    return test_loss,overall_acc\n"
   ]
  },
  {
   "cell_type": "code",
   "execution_count": 33,
   "metadata": {},
   "outputs": [],
   "source": [
    "criterion = nn.NLLLoss()\n",
    "optimizer=torch.optim.Adam(model.parameters())"
   ]
  },
  {
   "cell_type": "code",
   "execution_count": 34,
   "metadata": {},
   "outputs": [
    {
     "name": "stdout",
     "output_type": "stream",
     "text": [
      "Epoch: 1/5..  Training Loss: 0.306..  Test Loss: 0.101..  Test Accuracy: 0.967\n",
      "Epoch: 2/5..  Training Loss: 0.116..  Test Loss: 0.071..  Test Accuracy: 0.978\n",
      "Epoch: 3/5..  Training Loss: 0.088..  Test Loss: 0.061..  Test Accuracy: 0.980\n",
      "Epoch: 4/5..  Training Loss: 0.073..  Test Loss: 0.051..  Test Accuracy: 0.983\n",
      "Epoch: 5/5..  Training Loss: 0.061..  Test Loss: 0.048..  Test Accuracy: 0.984\n"
     ]
    }
   ],
   "source": [
    "train_loss,test_loss,accuracy=train(model,trainloader,testloader,\n",
    "                                             criterion,optimizer,5)"
   ]
  },
  {
   "cell_type": "code",
   "execution_count": null,
   "metadata": {},
   "outputs": [],
   "source": []
  }
 ],
 "metadata": {
  "kernelspec": {
   "display_name": "Python 3",
   "language": "python",
   "name": "python3"
  },
  "language_info": {
   "codemirror_mode": {
    "name": "ipython",
    "version": 3
   },
   "file_extension": ".py",
   "mimetype": "text/x-python",
   "name": "python",
   "nbconvert_exporter": "python",
   "pygments_lexer": "ipython3",
   "version": "3.6.3"
  }
 },
 "nbformat": 4,
 "nbformat_minor": 2
}
