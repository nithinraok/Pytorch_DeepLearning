{
 "cells": [
  {
   "cell_type": "markdown",
   "metadata": {},
   "source": [
    "MNIST _ Training"
   ]
  },
  {
   "cell_type": "code",
   "execution_count": 1,
   "metadata": {},
   "outputs": [],
   "source": [
    "%matplotlib inline\n",
    "%config InlineBackend.figure_format= 'retina'\n",
    "\n",
    "import numpy as np\n",
    "import pandas as pd\n",
    "import torch\n",
    "import helper\n",
    "import matplotlib.pyplot as plt"
   ]
  },
  {
   "cell_type": "code",
   "execution_count": 2,
   "metadata": {},
   "outputs": [],
   "source": [
    "from torchvision import datasets,transforms"
   ]
  },
  {
   "cell_type": "code",
   "execution_count": 3,
   "metadata": {},
   "outputs": [],
   "source": [
    "batch_size=64"
   ]
  },
  {
   "cell_type": "code",
   "execution_count": 4,
   "metadata": {},
   "outputs": [],
   "source": [
    "transform = transforms.Compose([transforms.ToTensor(),\n",
    "                                transforms.Normalize((0.5,0.5,0.5),(0.5,0.5,0.5))])\n",
    "\n",
    "trainset=datasets.MNIST('MNIST_data/',download=True,transform=transform)\n",
    "trainloader = torch.utils.data.DataLoader(trainset,batch_size=64,shuffle=True)"
   ]
  },
  {
   "cell_type": "code",
   "execution_count": 5,
   "metadata": {},
   "outputs": [
    {
     "name": "stdout",
     "output_type": "stream",
     "text": [
      "<class 'torch.Tensor'>\n",
      "torch.Size([64, 1, 28, 28])\n",
      "torch.Size([64])\n"
     ]
    }
   ],
   "source": [
    "dataIter = iter(trainloader)\n",
    "images, labels = dataIter.next()\n",
    "print(type(images))\n",
    "print(images.shape)\n",
    "print(labels.shape)"
   ]
  },
  {
   "cell_type": "code",
   "execution_count": 6,
   "metadata": {},
   "outputs": [
    {
     "data": {
      "image/png": "[encoded data removed]",
      "text/plain": [
       "<matplotlib.figure.Figure at 0x121e2e320>"
      ]
     },
     "metadata": {
      "image/png": {
       "height": 250,
       "width": 253
      }
     },
     "output_type": "display_data"
    }
   ],
   "source": [
    "plt.imshow(images[1].numpy().squeeze(),cmap=\"Greys_r\");"
   ]
  },
  {
   "cell_type": "markdown",
   "metadata": {},
   "source": [
    "Network Architecture :  \n",
    "Input : 784 (28x28)  \n",
    "n_hidden units : 256  \n",
    "n_hidden layers :1  \n",
    "n_output : 10  "
   ]
  },
  {
   "cell_type": "code",
   "execution_count": 7,
   "metadata": {},
   "outputs": [],
   "source": [
    "def activation(x):\n",
    "    return 1/(1+torch.exp(-x))\n",
    "\n",
    "def softmax(x):\n",
    "    den_sum=torch.sum(torch.exp(x),dim=1).view(-1,1)\n",
    "    soft=torch.exp(x)/den_sum;\n",
    "    return soft"
   ]
  },
  {
   "cell_type": "code",
   "execution_count": 8,
   "metadata": {},
   "outputs": [],
   "source": [
    "input_x = images.view(images.shape[0],-1)\n",
    "input_size=input_x.shape[1];\n",
    "n_hidden=256\n",
    "n_output=10\n",
    "\n",
    "W1=torch.randn((input_size,n_hidden));\n",
    "W2=torch.randn((n_hidden,n_output));\n",
    "\n",
    "B1=torch.randn((1,n_hidden));\n",
    "B2=torch.randn((1,n_output));\n",
    "\n",
    "a1=activation(torch.mm(input_x,W1)+B1)\n",
    "out=torch.mm(a1,W2)+B2"
   ]
  },
  {
   "cell_type": "code",
   "execution_count": 9,
   "metadata": {},
   "outputs": [],
   "source": [
    "prob=softmax(out)"
   ]
  },
  {
   "cell_type": "code",
   "execution_count": 10,
   "metadata": {},
   "outputs": [
    {
     "data": {
      "text/plain": [
       "torch.Size([64, 10])"
      ]
     },
     "execution_count": 10,
     "metadata": {},
     "output_type": "execute_result"
    }
   ],
   "source": [
    "prob.shape"
   ]
  },
  {
   "cell_type": "code",
   "execution_count": 11,
   "metadata": {},
   "outputs": [],
   "source": [
    "from torch import nn\n",
    "import torch.nn.functional as F"
   ]
  },
  {
   "cell_type": "code",
   "execution_count": 12,
   "metadata": {},
   "outputs": [],
   "source": [
    "class Network(nn.Module):\n",
    "    def __init__(self):\n",
    "        super().__init__()\n",
    "        n_hidden=[128,64]\n",
    "        n_output=10\n",
    "        self.hidden1=nn.Linear(784,n_hidden[0])\n",
    "        self.hidden2=nn.Linear(n_hidden[0],n_hidden[1])\n",
    "        self.output=nn.Linear(n_hidden[1],n_output)\n",
    "        \n",
    "#         self.sigmoid = nn.Sigmoid()\n",
    "#         self.softmax = nn.Softmax(dim=1)\n",
    "        \n",
    "    def forward(self,x):\n",
    "        x=F.relu(self.hidden1(x))\n",
    "        x=F.relu(self.hidden2(x))\n",
    "#         x=self.hidden(x);\n",
    "#         x=self.sigmoid(x);\n",
    "#         x=self.output(x);\n",
    "#         x=self.softmax(x);\n",
    "        x=F.softmax(self.output(x),dim=1)\n",
    "    \n",
    "        return x"
   ]
  },
  {
   "cell_type": "code",
   "execution_count": 13,
   "metadata": {},
   "outputs": [
    {
     "data": {
      "text/plain": [
       "Network(\n",
       "  (hidden1): Linear(in_features=784, out_features=128, bias=True)\n",
       "  (hidden2): Linear(in_features=128, out_features=64, bias=True)\n",
       "  (output): Linear(in_features=64, out_features=10, bias=True)\n",
       ")"
      ]
     },
     "execution_count": 13,
     "metadata": {},
     "output_type": "execute_result"
    }
   ],
   "source": [
    "model = Network()\n",
    "model"
   ]
  },
  {
   "cell_type": "markdown",
   "metadata": {},
   "source": [
    "Using Sequential pytorch API"
   ]
  },
  {
   "cell_type": "code",
   "execution_count": 14,
   "metadata": {},
   "outputs": [],
   "source": [
    "n_hidden=[128,64]\n",
    "n_output=10\n",
    "model = nn.Sequential(nn.Linear(784,n_hidden[0]),\n",
    "                     nn.ReLU(),\n",
    "                     nn.Linear(n_hidden[0],n_hidden[1]),\n",
    "                     nn.ReLU(),\n",
    "                     nn.Linear(n_hidden[1],n_output),\n",
    "                     nn.LogSoftmax(dim=1))\n",
    "            "
   ]
  },
  {
   "cell_type": "code",
   "execution_count": 15,
   "metadata": {},
   "outputs": [
    {
     "name": "stdout",
     "output_type": "stream",
     "text": [
      "Sequential(\n",
      "  (0): Linear(in_features=784, out_features=128, bias=True)\n",
      "  (1): ReLU()\n",
      "  (2): Linear(in_features=128, out_features=64, bias=True)\n",
      "  (3): ReLU()\n",
      "  (4): Linear(in_features=64, out_features=10, bias=True)\n",
      "  (5): LogSoftmax()\n",
      ")\n"
     ]
    }
   ],
   "source": [
    "print(model)"
   ]
  },
  {
   "cell_type": "code",
   "execution_count": 16,
   "metadata": {},
   "outputs": [
    {
     "name": "stdout",
     "output_type": "stream",
     "text": [
      "torch.Size([64, 784])\n",
      "Loss is  tensor(2.3037)\n"
     ]
    }
   ],
   "source": [
    "##Loss Definition\n",
    "criterion=nn.NLLLoss()\n",
    "\n",
    "images,labels=next(iter(trainloader))\n",
    "images=images.view(images.shape[0],-1)\n",
    "\n",
    "## For crossEntrophy logits are the scores we need to pass to our crossentrophy function\n",
    "## to decrease error\n",
    "# But for NNLoss we can pass log_probs directly to NNLoss so Logits = log_probs\n",
    "print(images.shape)\n",
    "\n",
    "logits = model(images)\n",
    "loss = criterion(logits,labels)\n",
    "\n",
    "print(\"Loss is \",loss)"
   ]
  },
  {
   "cell_type": "markdown",
   "metadata": {},
   "source": [
    "Doing Autograd to calculate derivative of x"
   ]
  },
  {
   "cell_type": "code",
   "execution_count": 17,
   "metadata": {},
   "outputs": [],
   "source": [
    "x=torch.rand(1,requires_grad=True)"
   ]
  },
  {
   "cell_type": "code",
   "execution_count": 18,
   "metadata": {},
   "outputs": [
    {
     "data": {
      "text/plain": [
       "tensor([ 0.8721])"
      ]
     },
     "execution_count": 18,
     "metadata": {},
     "output_type": "execute_result"
    }
   ],
   "source": [
    "x"
   ]
  },
  {
   "cell_type": "code",
   "execution_count": 19,
   "metadata": {},
   "outputs": [],
   "source": [
    "y=x**3"
   ]
  },
  {
   "cell_type": "markdown",
   "metadata": {},
   "source": [
    "See whether grad is enabled or not"
   ]
  },
  {
   "cell_type": "code",
   "execution_count": 20,
   "metadata": {},
   "outputs": [
    {
     "name": "stdout",
     "output_type": "stream",
     "text": [
      "<PowBackward0 object at 0x1255093c8>\n"
     ]
    }
   ],
   "source": [
    "print(y.grad_fn)"
   ]
  },
  {
   "cell_type": "code",
   "execution_count": 21,
   "metadata": {},
   "outputs": [
    {
     "name": "stdout",
     "output_type": "stream",
     "text": [
      "None\n"
     ]
    }
   ],
   "source": [
    "print(x.grad)"
   ]
  },
  {
   "cell_type": "code",
   "execution_count": 22,
   "metadata": {},
   "outputs": [
    {
     "name": "stdout",
     "output_type": "stream",
     "text": [
      "tensor([ 2.2818])\n"
     ]
    }
   ],
   "source": [
    "y.backward()\n",
    "print(x.grad)"
   ]
  },
  {
   "cell_type": "markdown",
   "metadata": {},
   "source": [
    "we should get 3x^2 .. Let's see"
   ]
  },
  {
   "cell_type": "code",
   "execution_count": 23,
   "metadata": {},
   "outputs": [
    {
     "data": {
      "text/plain": [
       "tensor([ 2.2818])"
      ]
     },
     "execution_count": 23,
     "metadata": {},
     "output_type": "execute_result"
    }
   ],
   "source": [
    "3*x**2"
   ]
  },
  {
   "cell_type": "markdown",
   "metadata": {},
   "source": [
    "Yep!"
   ]
  },
  {
   "cell_type": "code",
   "execution_count": 24,
   "metadata": {},
   "outputs": [
    {
     "name": "stdout",
     "output_type": "stream",
     "text": [
      "Before backward pass : model weight at layer 0 is None\n"
     ]
    }
   ],
   "source": [
    "print(\"Before backward pass : model weight at layer 0 is\",model[0].weight.grad)"
   ]
  },
  {
   "cell_type": "code",
   "execution_count": 25,
   "metadata": {},
   "outputs": [],
   "source": [
    "loss.backward() # Enabled backward pass"
   ]
  },
  {
   "cell_type": "code",
   "execution_count": 26,
   "metadata": {},
   "outputs": [
    {
     "name": "stdout",
     "output_type": "stream",
     "text": [
      "After backward pass : model weight at layer 0 is tensor(1.00000e-02 *\n",
      "       [[-0.2047, -0.2047, -0.2047,  ..., -0.2047, -0.2047, -0.2047],\n",
      "        [ 0.3868,  0.3868,  0.3868,  ...,  0.3868,  0.3868,  0.3868],\n",
      "        [-0.1654, -0.1654, -0.1654,  ..., -0.1654, -0.1654, -0.1654],\n",
      "        ...,\n",
      "        [ 0.1426,  0.1426,  0.1426,  ...,  0.1426,  0.1426,  0.1426],\n",
      "        [-0.0244, -0.0244, -0.0244,  ..., -0.0244, -0.0244, -0.0244],\n",
      "        [ 0.1422,  0.1422,  0.1422,  ...,  0.1422,  0.1422,  0.1422]])\n"
     ]
    }
   ],
   "source": [
    "print(\"After backward pass : model weight at layer 0 is\",model[0].weight.grad)"
   ]
  },
  {
   "cell_type": "markdown",
   "metadata": {},
   "source": [
    "## Training the newtork"
   ]
  },
  {
   "cell_type": "code",
   "execution_count": 27,
   "metadata": {},
   "outputs": [],
   "source": [
    "from torch import optim"
   ]
  },
  {
   "cell_type": "code",
   "execution_count": 28,
   "metadata": {},
   "outputs": [],
   "source": [
    "optimizer = optim.SGD(model.parameters(),lr=0.01)"
   ]
  },
  {
   "cell_type": "code",
   "execution_count": 29,
   "metadata": {},
   "outputs": [
    {
     "name": "stdout",
     "output_type": "stream",
     "text": [
      "Initial weights  Parameter containing:\n",
      "tensor([[ 1.6896e-02,  2.5839e-02, -3.2175e-02,  ...,  9.8781e-03,\n",
      "          9.0211e-03, -1.8437e-02],\n",
      "        [-3.3466e-02,  3.3557e-02, -1.2504e-02,  ..., -2.2777e-03,\n",
      "         -3.2859e-02, -9.4156e-03],\n",
      "        [-9.5676e-03,  2.6340e-02,  1.7379e-02,  ...,  1.6697e-02,\n",
      "          1.2404e-02, -8.2505e-03],\n",
      "        ...,\n",
      "        [ 2.9888e-03, -1.1079e-02, -1.0062e-02,  ...,  1.9263e-02,\n",
      "         -3.4641e-02,  2.0131e-02],\n",
      "        [-1.3735e-03, -1.2904e-03, -2.3114e-02,  ...,  2.4467e-03,\n",
      "          3.3908e-02, -2.7143e-04],\n",
      "        [ 2.2984e-02, -5.7740e-03, -2.3975e-02,  ...,  1.1721e-02,\n",
      "          2.1640e-02,  1.2228e-03]])\n",
      "Gradient  tensor(1.00000e-02 *\n",
      "       [[-0.2047, -0.2047, -0.2047,  ..., -0.2047, -0.2047, -0.2047],\n",
      "        [ 0.3868,  0.3868,  0.3868,  ...,  0.3868,  0.3868,  0.3868],\n",
      "        [-0.1654, -0.1654, -0.1654,  ..., -0.1654, -0.1654, -0.1654],\n",
      "        ...,\n",
      "        [ 0.1426,  0.1426,  0.1426,  ...,  0.1426,  0.1426,  0.1426],\n",
      "        [-0.0244, -0.0244, -0.0244,  ..., -0.0244, -0.0244, -0.0244],\n",
      "        [ 0.1422,  0.1422,  0.1422,  ...,  0.1422,  0.1422,  0.1422]])\n",
      "Updated Weights  Parameter containing:\n",
      "tensor([[ 1.6917e-02,  2.5859e-02, -3.2155e-02,  ...,  9.8986e-03,\n",
      "          9.0416e-03, -1.8416e-02],\n",
      "        [-3.3505e-02,  3.3518e-02, -1.2543e-02,  ..., -2.3164e-03,\n",
      "         -3.2898e-02, -9.4543e-03],\n",
      "        [-9.5510e-03,  2.6356e-02,  1.7396e-02,  ...,  1.6713e-02,\n",
      "          1.2421e-02, -8.2340e-03],\n",
      "        ...,\n",
      "        [ 2.9746e-03, -1.1094e-02, -1.0076e-02,  ...,  1.9249e-02,\n",
      "         -3.4655e-02,  2.0117e-02],\n",
      "        [-1.3710e-03, -1.2879e-03, -2.3111e-02,  ...,  2.4491e-03,\n",
      "          3.3910e-02, -2.6899e-04],\n",
      "        [ 2.2970e-02, -5.7882e-03, -2.3989e-02,  ...,  1.1707e-02,\n",
      "          2.1626e-02,  1.2085e-03]])\n"
     ]
    }
   ],
   "source": [
    "print(\"Initial weights \",model[0].weight)\n",
    "optimizer.zero_grad() # This is done to avoid gradients accumulation\n",
    "output=model(images)\n",
    "loss=criterion(output,labels)\n",
    "loss.backward()\n",
    "print(\"Gradient \",model[0].weight.grad)\n",
    "\n",
    "optimizer.step()\n",
    "\n",
    "print(\"Updated Weights \",model[0].weight)"
   ]
  },
  {
   "cell_type": "markdown",
   "metadata": {},
   "source": [
    "## FInal Model"
   ]
  },
  {
   "cell_type": "code",
   "execution_count": 30,
   "metadata": {},
   "outputs": [],
   "source": [
    "Model = nn.Sequential(nn.Linear(images.shape[1],n_hidden[0]),\n",
    "                     nn.ReLU(),\n",
    "                     nn.Linear(n_hidden[0],n_hidden[1]),\n",
    "                     nn.ReLU(),\n",
    "                     nn.Linear(n_hidden[1],n_output),\n",
    "                     nn.LogSoftmax(dim=1))\n",
    "criterion=nn.NLLLoss()\n",
    "optimizer=optim.SGD(Model.parameters(),lr=0.003)"
   ]
  },
  {
   "cell_type": "code",
   "execution_count": 31,
   "metadata": {},
   "outputs": [
    {
     "name": "stdout",
     "output_type": "stream",
     "text": [
      "Sequential(\n",
      "  (0): Linear(in_features=784, out_features=128, bias=True)\n",
      "  (1): ReLU()\n",
      "  (2): Linear(in_features=128, out_features=64, bias=True)\n",
      "  (3): ReLU()\n",
      "  (4): Linear(in_features=64, out_features=10, bias=True)\n",
      "  (5): LogSoftmax()\n",
      ")\n"
     ]
    }
   ],
   "source": [
    "print(Model)"
   ]
  },
  {
   "cell_type": "code",
   "execution_count": 32,
   "metadata": {},
   "outputs": [
    {
     "name": "stdout",
     "output_type": "stream",
     "text": [
      "Training loss:  1.8497461094530916\n",
      "Training loss:  0.8122107085388607\n",
      "Training loss:  0.5258027431108295\n",
      "Training loss:  0.4332217181891775\n",
      "Training loss:  0.3883526737470108\n"
     ]
    }
   ],
   "source": [
    "epochs=5;\n",
    "for e in range(epochs):\n",
    "    running_loss=0;\n",
    "    for images,labels in trainloader:\n",
    "        images=images.view(images.shape[0],-1)\n",
    "        output=Model(images)\n",
    "        optimizer.zero_grad()\n",
    "        loss=criterion(output,labels)\n",
    "        loss.backward();\n",
    "        optimizer.step()\n",
    "        \n",
    "        running_loss=running_loss+loss.item();\n",
    "    else:\n",
    "        print(\"Training loss: \",running_loss/len(trainloader))\n",
    "        "
   ]
  },
  {
   "cell_type": "code",
   "execution_count": 33,
   "metadata": {},
   "outputs": [],
   "source": [
    "import helper"
   ]
  },
  {
   "cell_type": "code",
   "execution_count": 35,
   "metadata": {
    "scrolled": true
   },
   "outputs": [
    {
     "data": {
      "image/png": "[encoded data removed]",
      "text/plain": [
       "<matplotlib.figure.Figure at 0x111697470>"
      ]
     },
     "metadata": {
      "image/png": {
       "height": 224,
       "width": 423
      }
     },
     "output_type": "display_data"
    }
   ],
   "source": [
    "images,labels=next(iter(trainloader))\n",
    "img=images[0].view(1,784)\n",
    "with torch.no_grad():\n",
    "    logits=Model(img)\n",
    "\n",
    "ps=F.softmax(logits,dim=1)\n",
    "\n",
    "helper.view_classify(img.view(1,28,28),ps)"
   ]
  },
  {
   "cell_type": "code",
   "execution_count": null,
   "metadata": {},
   "outputs": [],
   "source": []
  }
 ],
 "metadata": {
  "kernelspec": {
   "display_name": "Python 3",
   "language": "python",
   "name": "python3"
  },
  "language_info": {
   "codemirror_mode": {
    "name": "ipython",
    "version": 3
   },
   "file_extension": ".py",
   "mimetype": "text/x-python",
   "name": "python",
   "nbconvert_exporter": "python",
   "pygments_lexer": "ipython3",
   "version": "3.6.3"
  }
 },
 "nbformat": 4,
 "nbformat_minor": 2
}
